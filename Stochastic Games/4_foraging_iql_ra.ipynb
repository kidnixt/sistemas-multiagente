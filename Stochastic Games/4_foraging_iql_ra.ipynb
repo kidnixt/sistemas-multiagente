{
 "cells": [
  {
   "cell_type": "markdown",
   "id": "a73812b7",
   "metadata": {},
   "source": [
    "# Foraging - Independent Q-Learning"
   ]
  },
  {
   "cell_type": "markdown",
   "id": "b8dbed19",
   "metadata": {},
   "source": [
    "## Pre-requisites"
   ]
  },
  {
   "cell_type": "markdown",
   "id": "db32f8dd",
   "metadata": {},
   "source": [
    "### Imports"
   ]
  },
  {
   "cell_type": "code",
   "execution_count": 1,
   "id": "1f3a58bd",
   "metadata": {},
   "outputs": [],
   "source": [
    "import time\n",
    "from functools import partial\n",
    "\n",
    "import numpy as np\n",
    "import matplotlib.pyplot as plt\n",
    "import seaborn as sns\n",
    "\n",
    "from games.foraging import Foraging \n",
    "from agents.independent_q_learning import IQL\n",
    "from agents.random_agent import StochasticRandomAgent"
   ]
  },
  {
   "cell_type": "code",
   "execution_count": 2,
   "id": "6a065135",
   "metadata": {},
   "outputs": [],
   "source": [
    "# Make plots smaller\n",
    "plt.rcParams['figure.figsize'] = (8, 4)\n"
   ]
  },
  {
   "cell_type": "code",
   "execution_count": 3,
   "id": "1b314e79",
   "metadata": {},
   "outputs": [
    {
     "name": "stdout",
     "output_type": "stream",
     "text": [
      "Game Information:\n",
      "Rewards:  {'agent_0': 0, 'agent_1': 0}\n",
      "Observations:  {'agent_0': array([2., 1., 2., 5., 5., 2., 6., 5., 1., 3., 6., 1.], dtype=float32), 'agent_1': array([2., 1., 2., 5., 5., 2., 3., 6., 1., 6., 5., 1.], dtype=float32)}\n",
      "Terminations:  {'agent_0': False, 'agent_1': False}\n",
      "Truncations:  {'agent_0': False, 'agent_1': False}\n",
      "Infos:  {'agent_0': {}, 'agent_1': {}}\n"
     ]
    },
    {
     "name": "stderr",
     "output_type": "stream",
     "text": [
      "c:\\Users\\marrt\\miniconda3\\envs\\pettingzoo_games\\Lib\\site-packages\\gymnasium\\spaces\\box.py:130: UserWarning: \u001b[33mWARN: Box bound precision lowered by casting to float32\u001b[0m\n",
      "  gym.logger.warn(f\"Box bound precision lowered by casting to {self.dtype}\")\n"
     ]
    }
   ],
   "source": [
    "game = Foraging(config=\"Foraging-8x8-2p-2f-v3\", seed=42)\n",
    "game.reset()\n",
    "\n",
    "#print game information\n",
    "rewards = game.rewards\n",
    "observations = game.observations\n",
    "terminations = game.terminations\n",
    "truncations = game.truncations\n",
    "infos = game.infos\n",
    "print(\"Game Information:\")\n",
    "print(\"Rewards: \", rewards)\n",
    "print(\"Observations: \", observations)\n",
    "print(\"Terminations: \", terminations)\n",
    "\n",
    "print(\"Truncations: \", truncations)\n",
    "print(\"Infos: \", infos)"
   ]
  },
  {
   "cell_type": "markdown",
   "id": "f39479a6",
   "metadata": {},
   "source": [
    "### Epsilon and Alpha function that will be used in the Q-learning algorithm"
   ]
  },
  {
   "cell_type": "code",
   "execution_count": 4,
   "id": "ab05de3c",
   "metadata": {},
   "outputs": [
    {
     "data": {
      "text/plain": [
       "Text(0.5, 1.0, 'Epsilon Function Decay')"
      ]
     },
     "execution_count": 4,
     "metadata": {},
     "output_type": "execute_result"
    },
    {
     "data": {
      "image/png": "[encoded data removed]",
      "text/plain": [
       "<Figure size 500x300 with 1 Axes>"
      ]
     },
     "metadata": {},
     "output_type": "display_data"
    }
   ],
   "source": [
    "def epsilon_func(i: int, min_value=0.05, max_value=1.0, decay_steps=8000):\n",
    "        \"\"\"\n",
    "        Epsilon decay should linearly decay from max_value to min_value in the first decay_steps,\n",
    "        and then stay at min_value for the rest of the training.\n",
    "        \"\"\"\n",
    "        if i < decay_steps:\n",
    "            # Linearly decay epsilon\n",
    "            return max_value - (max_value - min_value) * (i / decay_steps)\n",
    "        else:\n",
    "            # Keep epsilon at min_value after decay_steps\n",
    "            return min_value\n",
    "        \n",
    "def get_epsilon_func(min_value=0.05, max_value=1.0, decay_steps=8000):\n",
    "    \"\"\"\n",
    "    Returns the epsilon function with the specified parameters.\n",
    "    \"\"\"\n",
    "    return partial(epsilon_func, min_value=min_value, max_value=max_value, decay_steps=decay_steps)\n",
    "\n",
    "values = []\n",
    "for i in range(0, 10000):\n",
    "    epsilon = epsilon_func(i)\n",
    "    values.append(epsilon)\n",
    "\n",
    "plt.figure(figsize=(5, 3))\n",
    "plt.plot(values)\n",
    "plt.xlabel('Steps')\n",
    "plt.ylabel('Epsilon')\n",
    "plt.title('Epsilon Function Decay')"
   ]
  },
  {
   "cell_type": "code",
   "execution_count": 5,
   "id": "7f4470e6",
   "metadata": {},
   "outputs": [],
   "source": [
    "# Alpha is just 0.1 for all steps\n",
    "def alpha_func(i: int, value=0.1):\n",
    "        return 0.1\n",
    "\n",
    "def get_alpha_func(value =0.1):\n",
    "    \"\"\"\n",
    "    Returns the alpha function with the specified parameters.\n",
    "    \"\"\"\n",
    "    return partial(alpha_func, value=value)"
   ]
  },
  {
   "cell_type": "markdown",
   "id": "3aedd916",
   "metadata": {},
   "source": [
    "### Utility functions"
   ]
  },
  {
   "cell_type": "code",
   "execution_count": 6,
   "id": "24659837",
   "metadata": {},
   "outputs": [],
   "source": [
    "def run(game, agents, verbose=False, render=False, training=True):\n",
    "    game.reset()\n",
    "    cum_rewards = dict(map(lambda agent: (agent, 0), game.agents))\n",
    "\n",
    "    if render:\n",
    "        game.render()\n",
    "        time.sleep(3) # Wait for 2 seconds before starting the game\n",
    "\n",
    "    while not game.done():\n",
    "        actions = dict(map(lambda agent: (agent, agents[agent].action()), game.agents))\n",
    "        game.step(actions)\n",
    "\n",
    "        for agent in game.agents:\n",
    "            if training:\n",
    "                # Update the agent only if training is enabled\n",
    "                agents[agent].update()\n",
    "            cum_rewards[agent] += game.reward(agent)\n",
    "\n",
    "        if verbose:\n",
    "            for agent in game.agents:\n",
    "                    print(f\"Agent {agent} reward: {game.reward(agent)}\")\n",
    "                    print(f\"Agent {agent} observe: {game.observe(agent)}\")\n",
    "            \n",
    "        if render:\n",
    "            game.render()\n",
    "            time.sleep(0.15)\n",
    "        \n",
    "    return cum_rewards"
   ]
  },
  {
   "cell_type": "code",
   "execution_count": 7,
   "id": "5f3babe6",
   "metadata": {},
   "outputs": [],
   "source": [
    "def train(game, agents, iterations, episodes_per_iteration, verbose=False):\n",
    "    reward_list = {agent: [] for agent in game.agents}\n",
    "    rewards_per_iteration = {agent: [] for agent in game.agents}\n",
    "    for i in range(iterations):\n",
    "        for j in range(episodes_per_iteration):\n",
    "            cum_rewards = run(game, agents, verbose=False, render=False, training=True)\n",
    "            for agent in game.agents:\n",
    "                reward_list[agent].append(cum_rewards[agent])\n",
    "\n",
    "        for agent in game.agents:\n",
    "            rewards_per_iteration[agent].append(np.mean(reward_list[agent][-episodes_per_iteration:]))\n",
    "        if verbose:\n",
    "            # Print the average rewards for each agent after each iteration\n",
    "            print(f\"Iteration {i+1}, Total Episodes {(j+1)* (i+1)}\")\n",
    "            for agent in game.agents:\n",
    "                print(f\"Agent {agent}, Average reward: {rewards_per_iteration[agent][i]}\")\n",
    "    \n",
    "    # return the average rewards for each agent after training\n",
    "    return rewards_per_iteration\n",
    "\n",
    "def plot_rewards(rewards, config):\n",
    "    plt.figure(figsize=(10, 5))\n",
    "    for agent in rewards:\n",
    "        plt.plot(rewards[agent], label=f\"Agent {agent}\")\n",
    "    plt.title(f\"Rewards for Configuration {config['game']}\")\n",
    "    plt.xlabel(\"Iterations\")\n",
    "    plt.ylabel(\"Rewards\")\n",
    "    plt.legend()\n",
    "    plt.grid()\n",
    "    plt.show()"
   ]
  },
  {
   "cell_type": "code",
   "execution_count": 8,
   "id": "91b675ed",
   "metadata": {},
   "outputs": [],
   "source": [
    "def plot_rewards_on_multiple_runs(all_rewards, config):\n",
    "    # Convert to 3D array: runs x agents x iterations\n",
    "    all_rewards = np.array(all_rewards)\n",
    "\n",
    "    # Compute mean and std across runs, for each agent and iteration\n",
    "    mean_rewards = np.mean(all_rewards, axis=0)  # shape: agents x iterations\n",
    "    std_rewards = np.std(all_rewards, axis=0)    # shape: agents x iterations\n",
    "\n",
    "    # Plot mean and std for each agent\n",
    "    iterations = np.arange(mean_rewards.shape[1])\n",
    "    for agent_idx, agent in enumerate(game.agents):\n",
    "        plt.plot(iterations, mean_rewards[agent_idx], label=f\"Agent {agent} Mean\")\n",
    "        plt.fill_between(iterations, \n",
    "                        mean_rewards[agent_idx] - std_rewards[agent_idx], \n",
    "                        mean_rewards[agent_idx] + std_rewards[agent_idx], \n",
    "                        alpha=0.2, label=f\"Agent {agent} Std\")\n",
    "\n",
    "    plt.title(f\"Mean and Std Rewards over {config['num_runs']} Runs for {config['game']}\")\n",
    "    plt.xlabel(\"Iterations\")\n",
    "    plt.ylabel(\"Rewards\")\n",
    "    plt.legend()\n",
    "    plt.grid()\n",
    "    plt.show()\n",
    "\n",
    "def plot_sum_all_rewards(all_rewards, config):\n",
    "    # all_rewards shape: (num_runs, num_agents, num_iterations)\n",
    "    # Compute sum of rewards across agents for each run and iteration\n",
    "    sum_rewards_per_run = np.sum(all_rewards, axis=1)  # shape: (num_runs, num_iterations)\n",
    "\n",
    "    # Compute mean and std across runs, for each iteration\n",
    "    mean_sum_rewards = np.mean(sum_rewards_per_run, axis=0)  # shape: (num_iterations,)\n",
    "    std_sum_rewards = np.std(sum_rewards_per_run, axis=0)    # shape: (num_iterations,)\n",
    "\n",
    "    # Plot mean and std of sum of rewards\n",
    "    iterations = np.arange(mean_sum_rewards.shape[0])\n",
    "    plt.plot(iterations, mean_sum_rewards, label=\"Mean Sum of Rewards\")\n",
    "    plt.fill_between(iterations, \n",
    "                    mean_sum_rewards - std_sum_rewards, \n",
    "                    mean_sum_rewards + std_sum_rewards, \n",
    "                    alpha=0.2, label=\"Std Dev\")\n",
    "    plt.axhline(y=1, color='r', linestyle='--', label=\"Target\")\n",
    "    plt.title(f\"Mean and Std of Sum of Rewards over {config['num_runs']} Runs for {config['game']}\")\n",
    "    plt.xlabel(\"Iterations\")\n",
    "    plt.ylabel(\"Sum of Rewards\")\n",
    "    plt.legend()\n",
    "    plt.grid()\n",
    "    plt.show()"
   ]
  },
  {
   "cell_type": "markdown",
   "id": "d59668d5",
   "metadata": {},
   "source": [
    "## 5x5 - 2 Players - 2 Food"
   ]
  },
  {
   "cell_type": "markdown",
   "id": "caeee1a0",
   "metadata": {},
   "source": [
    "<img src=\"./attachments/5x5-2p-2f.png\" width=\"200\"/>"
   ]
  },
  {
   "cell_type": "code",
   "execution_count": 9,
   "id": "99ff4ef0",
   "metadata": {},
   "outputs": [],
   "source": [
    "config = {\n",
    "        \"game\": \"Foraging-5x5-2p-2f-v3\",\n",
    "        \"seed\": 3,\n",
    "        \"num_runs\": 5,\n",
    "        \"agent\": {\n",
    "            \"alpha\": get_alpha_func(),\n",
    "            \"epsilon\": get_epsilon_func(),\n",
    "            \"gamma\": 0.9,\n",
    "        },\n",
    "        \"train\": {\n",
    "            \"iterations\": 10,\n",
    "            \"episodes_per_iteration\": 1000,\n",
    "        },\n",
    "    }"
   ]
  },
  {
   "cell_type": "code",
   "execution_count": 10,
   "id": "4092f824",
   "metadata": {},
   "outputs": [
    {
     "name": "stdout",
     "output_type": "stream",
     "text": [
      "Run 1/5\n"
     ]
    },
    {
     "name": "stderr",
     "output_type": "stream",
     "text": [
      "c:\\Users\\marrt\\miniconda3\\envs\\pettingzoo_games\\Lib\\site-packages\\gymnasium\\utils\\passive_env_checker.py:275: UserWarning: \u001b[33mWARN: The reward returned by `step()` must be a float, int, np.integer or np.floating, actual type: <class 'list'>\u001b[0m\n",
      "  logger.warn(\n"
     ]
    },
    {
     "ename": "TypeError",
     "evalue": "IQL.update() missing 1 required positional argument: 'actions'",
     "output_type": "error",
     "traceback": [
      "\u001b[31m---------------------------------------------------------------------------\u001b[39m",
      "\u001b[31mTypeError\u001b[39m                                 Traceback (most recent call last)",
      "\u001b[36mCell\u001b[39m\u001b[36m \u001b[39m\u001b[32mIn[10]\u001b[39m\u001b[32m, line 10\u001b[39m\n\u001b[32m      5\u001b[39m game = Foraging(config=config[\u001b[33m\"\u001b[39m\u001b[33mgame\u001b[39m\u001b[33m\"\u001b[39m], seed=config[\u001b[33m\"\u001b[39m\u001b[33mseed\u001b[39m\u001b[33m\"\u001b[39m]) \n\u001b[32m      6\u001b[39m agents = {game.agents[\u001b[32m0\u001b[39m]: IQL(game, game.agents[\u001b[32m0\u001b[39m], alpha_func=config[\u001b[33m\"\u001b[39m\u001b[33magent\u001b[39m\u001b[33m\"\u001b[39m][\u001b[33m\"\u001b[39m\u001b[33malpha\u001b[39m\u001b[33m\"\u001b[39m], epsilon_func=config[\u001b[33m\"\u001b[39m\u001b[33magent\u001b[39m\u001b[33m\"\u001b[39m][\u001b[33m\"\u001b[39m\u001b[33mepsilon\u001b[39m\u001b[33m\"\u001b[39m], \n\u001b[32m      7\u001b[39m                      gamma=config[\u001b[33m\"\u001b[39m\u001b[33magent\u001b[39m\u001b[33m\"\u001b[39m][\u001b[33m\"\u001b[39m\u001b[33mgamma\u001b[39m\u001b[33m\"\u001b[39m], seed=i),\n\u001b[32m      8\u001b[39m         game.agents[\u001b[32m1\u001b[39m]: StochasticRandomAgent(game, game.agents[\u001b[32m1\u001b[39m], seed=i)\n\u001b[32m      9\u001b[39m         }\n\u001b[32m---> \u001b[39m\u001b[32m10\u001b[39m rewards = \u001b[43mtrain\u001b[49m\u001b[43m(\u001b[49m\u001b[43mgame\u001b[49m\u001b[43m,\u001b[49m\u001b[43m \u001b[49m\u001b[43magents\u001b[49m\u001b[43m,\u001b[49m\u001b[43m \u001b[49m\u001b[43mconfig\u001b[49m\u001b[43m[\u001b[49m\u001b[33;43m\"\u001b[39;49m\u001b[33;43mtrain\u001b[39;49m\u001b[33;43m\"\u001b[39;49m\u001b[43m]\u001b[49m\u001b[43m[\u001b[49m\u001b[33;43m\"\u001b[39;49m\u001b[33;43miterations\u001b[39;49m\u001b[33;43m\"\u001b[39;49m\u001b[43m]\u001b[49m\u001b[43m,\u001b[49m\u001b[43m \u001b[49m\u001b[43mconfig\u001b[49m\u001b[43m[\u001b[49m\u001b[33;43m\"\u001b[39;49m\u001b[33;43mtrain\u001b[39;49m\u001b[33;43m\"\u001b[39;49m\u001b[43m]\u001b[49m\u001b[43m[\u001b[49m\u001b[33;43m\"\u001b[39;49m\u001b[33;43mepisodes_per_iteration\u001b[39;49m\u001b[33;43m\"\u001b[39;49m\u001b[43m]\u001b[49m\u001b[43m,\u001b[49m\u001b[43m \u001b[49m\u001b[43mverbose\u001b[49m\u001b[43m=\u001b[49m\u001b[38;5;28;43;01mFalse\u001b[39;49;00m\u001b[43m)\u001b[49m\n\u001b[32m     11\u001b[39m rewards_matrix = np.array([rewards[agent] \u001b[38;5;28;01mfor\u001b[39;00m agent \u001b[38;5;129;01min\u001b[39;00m game.agents])\n\u001b[32m     12\u001b[39m all_rewards.append(rewards_matrix)\n",
      "\u001b[36mCell\u001b[39m\u001b[36m \u001b[39m\u001b[32mIn[7]\u001b[39m\u001b[32m, line 6\u001b[39m, in \u001b[36mtrain\u001b[39m\u001b[34m(game, agents, iterations, episodes_per_iteration, verbose)\u001b[39m\n\u001b[32m      4\u001b[39m \u001b[38;5;28;01mfor\u001b[39;00m i \u001b[38;5;129;01min\u001b[39;00m \u001b[38;5;28mrange\u001b[39m(iterations):\n\u001b[32m      5\u001b[39m     \u001b[38;5;28;01mfor\u001b[39;00m j \u001b[38;5;129;01min\u001b[39;00m \u001b[38;5;28mrange\u001b[39m(episodes_per_iteration):\n\u001b[32m----> \u001b[39m\u001b[32m6\u001b[39m         cum_rewards = \u001b[43mrun\u001b[49m\u001b[43m(\u001b[49m\u001b[43mgame\u001b[49m\u001b[43m,\u001b[49m\u001b[43m \u001b[49m\u001b[43magents\u001b[49m\u001b[43m,\u001b[49m\u001b[43m \u001b[49m\u001b[43mverbose\u001b[49m\u001b[43m=\u001b[49m\u001b[38;5;28;43;01mFalse\u001b[39;49;00m\u001b[43m,\u001b[49m\u001b[43m \u001b[49m\u001b[43mrender\u001b[49m\u001b[43m=\u001b[49m\u001b[38;5;28;43;01mFalse\u001b[39;49;00m\u001b[43m,\u001b[49m\u001b[43m \u001b[49m\u001b[43mtraining\u001b[49m\u001b[43m=\u001b[49m\u001b[38;5;28;43;01mTrue\u001b[39;49;00m\u001b[43m)\u001b[49m\n\u001b[32m      7\u001b[39m         \u001b[38;5;28;01mfor\u001b[39;00m agent \u001b[38;5;129;01min\u001b[39;00m game.agents:\n\u001b[32m      8\u001b[39m             reward_list[agent].append(cum_rewards[agent])\n",
      "\u001b[36mCell\u001b[39m\u001b[36m \u001b[39m\u001b[32mIn[6]\u001b[39m\u001b[32m, line 16\u001b[39m, in \u001b[36mrun\u001b[39m\u001b[34m(game, agents, verbose, render, training)\u001b[39m\n\u001b[32m     13\u001b[39m \u001b[38;5;28;01mfor\u001b[39;00m agent \u001b[38;5;129;01min\u001b[39;00m game.agents:\n\u001b[32m     14\u001b[39m     \u001b[38;5;28;01mif\u001b[39;00m training:\n\u001b[32m     15\u001b[39m         \u001b[38;5;66;03m# Update the agent only if training is enabled\u001b[39;00m\n\u001b[32m---> \u001b[39m\u001b[32m16\u001b[39m         \u001b[43magents\u001b[49m\u001b[43m[\u001b[49m\u001b[43magent\u001b[49m\u001b[43m]\u001b[49m\u001b[43m.\u001b[49m\u001b[43mupdate\u001b[49m\u001b[43m(\u001b[49m\u001b[43m)\u001b[49m\n\u001b[32m     17\u001b[39m     cum_rewards[agent] += game.reward(agent)\n\u001b[32m     19\u001b[39m \u001b[38;5;28;01mif\u001b[39;00m verbose:\n",
      "\u001b[31mTypeError\u001b[39m: IQL.update() missing 1 required positional argument: 'actions'"
     ]
    }
   ],
   "source": [
    "all_rewards = []\n",
    "\n",
    "for i in range(config[\"num_runs\"]):\n",
    "    print(f\"Run {i+1}/{config['num_runs']}\")\n",
    "    game = Foraging(config=config[\"game\"], seed=config[\"seed\"]) \n",
    "    agents = {game.agents[0]: IQL(game, game.agents[0], alpha_func=config[\"agent\"][\"alpha\"], epsilon_func=config[\"agent\"][\"epsilon\"], \n",
    "                         gamma=config[\"agent\"][\"gamma\"], seed=i),\n",
    "            game.agents[1]: StochasticRandomAgent(game, game.agents[1], seed=i)\n",
    "            }\n",
    "    rewards = train(game, agents, config[\"train\"][\"iterations\"], config[\"train\"][\"episodes_per_iteration\"], verbose=False)\n",
    "    rewards_matrix = np.array([rewards[agent] for agent in game.agents])\n",
    "    all_rewards.append(rewards_matrix)\n",
    "\n",
    "plot_rewards_on_multiple_runs(all_rewards, config)\n"
   ]
  },
  {
   "cell_type": "code",
   "execution_count": null,
   "id": "076d40d6",
   "metadata": {},
   "outputs": [],
   "source": [
    "plot_sum_all_rewards(all_rewards, config)"
   ]
  },
  {
   "cell_type": "code",
   "execution_count": null,
   "id": "cb9979b8",
   "metadata": {},
   "outputs": [],
   "source": [
    "# Run a single episode on the last trained agents\n",
    "#run(game, agents, verbose=False, render=True, training=False) # Uncomment to run a single episode"
   ]
  },
  {
   "cell_type": "markdown",
   "id": "e19a8e9f",
   "metadata": {},
   "source": [
    "## 8x8 - 2 Players - 2 Food"
   ]
  },
  {
   "cell_type": "markdown",
   "id": "eb3f7604",
   "metadata": {},
   "source": [
    "<img src=\"./attachments/8x8-2p-2f.png\" width=\"300\"/>"
   ]
  },
  {
   "cell_type": "code",
   "execution_count": null,
   "id": "aeb924ea",
   "metadata": {},
   "outputs": [],
   "source": [
    "config = {\n",
    "        \"game\": \"Foraging-8x8-2p-2f-v3\",\n",
    "        \"seed\": 3,\n",
    "        \"num_runs\": 5,\n",
    "        \"agent\": {\n",
    "            \"alpha\": get_alpha_func(),\n",
    "            \"epsilon\": get_epsilon_func(),\n",
    "            \"gamma\": 0.9\n",
    "        },\n",
    "        \"train\": {\n",
    "            \"iterations\": 10,\n",
    "            \"episodes_per_iteration\": 1000,\n",
    "        },\n",
    "    }"
   ]
  },
  {
   "cell_type": "code",
   "execution_count": null,
   "id": "a807cd75",
   "metadata": {},
   "outputs": [],
   "source": [
    "all_rewards = []\n",
    "\n",
    "for i in range(config[\"num_runs\"]):\n",
    "    print(f\"Run {i+1}/{config['num_runs']}\")\n",
    "    game = Foraging(config=config[\"game\"], seed=config[\"seed\"]) \n",
    "    agents = {game.agents[0]: IQL(game, game.agents[0], alpha_func=config[\"agent\"][\"alpha\"], epsilon_func=config[\"agent\"][\"epsilon\"], \n",
    "                         gamma=config[\"agent\"][\"gamma\"], seed=i),\n",
    "            game.agents[1]: StochasticRandomAgent(game, game.agents[1], seed=i)\n",
    "            }\n",
    "    rewards = train(game, agents, config[\"train\"][\"iterations\"], config[\"train\"][\"episodes_per_iteration\"], verbose=False)\n",
    "    rewards_matrix = np.array([rewards[agent] for agent in game.agents])\n",
    "    all_rewards.append(rewards_matrix)\n",
    "\n",
    "plot_rewards_on_multiple_runs(all_rewards, config)"
   ]
  },
  {
   "cell_type": "code",
   "execution_count": null,
   "id": "2dc7244c",
   "metadata": {},
   "outputs": [],
   "source": [
    "plot_sum_all_rewards(all_rewards, config)"
   ]
  },
  {
   "cell_type": "code",
   "execution_count": null,
   "id": "d75ce205",
   "metadata": {},
   "outputs": [],
   "source": [
    "# Run the agents with render to see how they behave in the environment.\n",
    "# run(game, agents, verbose=False, render=True, training=False) # Uncomment to run a single episode"
   ]
  },
  {
   "cell_type": "markdown",
   "id": "91a997ea",
   "metadata": {},
   "source": [
    "## 8x8 - 2 Players - 3 Food"
   ]
  },
  {
   "cell_type": "markdown",
   "id": "17d32d2c",
   "metadata": {},
   "source": [
    "<img src=\"./attachments/8x8-2p-3f.png\" width=\"300\"/>"
   ]
  },
  {
   "cell_type": "code",
   "execution_count": null,
   "id": "ef64d847",
   "metadata": {},
   "outputs": [],
   "source": [
    "config = {\n",
    "        \"game\": \"Foraging-8x8-2p-3f-v3\",\n",
    "        \"seed\": 3,\n",
    "        \"num_runs\": 5,\n",
    "        \"agent\": {\n",
    "            \"alpha\": get_alpha_func(),\n",
    "            \"epsilon\": get_epsilon_func(),\n",
    "            \"gamma\": 0.9\n",
    "        },\n",
    "        \"train\": {\n",
    "            \"iterations\": 30, # This environment requires more iterations to converge\n",
    "            \"episodes_per_iteration\": 1000,\n",
    "        },\n",
    "    }"
   ]
  },
  {
   "cell_type": "code",
   "execution_count": null,
   "id": "87b464bc",
   "metadata": {},
   "outputs": [],
   "source": [
    "all_rewards = []\n",
    "\n",
    "for i in range(config[\"num_runs\"]):\n",
    "    print(f\"Run {i+1}/{config['num_runs']}\")\n",
    "    game = Foraging(config=config[\"game\"], seed=config[\"seed\"]) \n",
    "    agents = {game.agents[0]: IQL(game, game.agents[0], alpha_func=config[\"agent\"][\"alpha\"], epsilon_func=config[\"agent\"][\"epsilon\"], \n",
    "                         gamma=config[\"agent\"][\"gamma\"], seed=i),\n",
    "            game.agents[1]: StochasticRandomAgent(game, game.agents[1], seed=i)\n",
    "            }\n",
    "    rewards = train(game, agents, config[\"train\"][\"iterations\"], config[\"train\"][\"episodes_per_iteration\"], verbose=False)\n",
    "    rewards_matrix = np.array([rewards[agent] for agent in game.agents])\n",
    "    all_rewards.append(rewards_matrix)\n",
    "\n",
    "plot_rewards_on_multiple_runs(all_rewards, config)"
   ]
  },
  {
   "cell_type": "code",
   "execution_count": null,
   "id": "faf6b027",
   "metadata": {},
   "outputs": [],
   "source": [
    "plot_sum_all_rewards(all_rewards, config)"
   ]
  },
  {
   "cell_type": "code",
   "execution_count": null,
   "id": "f59cd568",
   "metadata": {},
   "outputs": [],
   "source": [
    "# Run the agents with render to see how they behave in the environment.\n",
    "#run(game, agents, verbose=False, render=True, training=False) # Uncomment to run a single episode"
   ]
  },
  {
   "cell_type": "markdown",
   "id": "83355b57",
   "metadata": {},
   "source": [
    "## 8x8 - 3 Players - 1 Food"
   ]
  },
  {
   "cell_type": "markdown",
   "id": "0baf79c0",
   "metadata": {},
   "source": [
    "Aumentamos la cantidad de agentes para ver como se comportan en un ambiente más complejo.\n",
    "\n",
    "<img src=\"./attachments/8x8-3p-1f.png\" width=\"300\"/>"
   ]
  },
  {
   "cell_type": "code",
   "execution_count": null,
   "id": "3ce2fc1a",
   "metadata": {},
   "outputs": [],
   "source": [
    "config = {\n",
    "        \"game\": \"Foraging-8x8-3p-1f-v3\",\n",
    "        \"seed\": 1,\n",
    "        \"num_runs\": 5,\n",
    "        \"agent\": {\n",
    "            \"alpha\": get_alpha_func(),\n",
    "            \"epsilon\": get_epsilon_func(),\n",
    "            \"gamma\": 0.9,\n",
    "        },\n",
    "        \"train\": {\n",
    "            \"iterations\": 10,\n",
    "            \"episodes_per_iteration\": 1000,\n",
    "        },\n",
    "    }"
   ]
  },
  {
   "cell_type": "code",
   "execution_count": null,
   "id": "71af882b",
   "metadata": {},
   "outputs": [],
   "source": [
    "all_rewards = []\n",
    "\n",
    "for i in range(config[\"num_runs\"]):\n",
    "    print(f\"Run {i+1}/{config['num_runs']}\")\n",
    "    game = Foraging(config=config[\"game\"], seed=config[\"seed\"]) \n",
    "    agents = agents = {game.agents[0]: IQL(game, game.agents[0], alpha_func=config[\"agent\"][\"alpha\"], epsilon_func=config[\"agent\"][\"epsilon\"], \n",
    "                         gamma=config[\"agent\"][\"gamma\"], seed=i),\n",
    "            game.agents[1]: StochasticRandomAgent(game, game.agents[1], seed=i),\n",
    "            game.agents[2]: StochasticRandomAgent(game, game.agents[2], seed=i)\n",
    "            }\n",
    "    rewards = train(game, agents, config[\"train\"][\"iterations\"], config[\"train\"][\"episodes_per_iteration\"], verbose=False)\n",
    "    rewards_matrix = np.array([rewards[agent] for agent in game.agents])\n",
    "    all_rewards.append(rewards_matrix)\n",
    "\n",
    "plot_rewards_on_multiple_runs(all_rewards, config)"
   ]
  },
  {
   "cell_type": "code",
   "execution_count": null,
   "id": "bb448212",
   "metadata": {},
   "outputs": [],
   "source": [
    "plot_sum_all_rewards(all_rewards, config)"
   ]
  },
  {
   "cell_type": "code",
   "execution_count": null,
   "id": "2533f844",
   "metadata": {},
   "outputs": [],
   "source": [
    "# Run the agents with render to see how they behave in the environment.\n",
    "#run(game, agents, verbose=False, render=True, training=False) # Uncomment to run a single episode"
   ]
  }
 ],
 "metadata": {
  "kernelspec": {
   "display_name": "pettingzoo_games",
   "language": "python",
   "name": "python3"
  },
  "language_info": {
   "codemirror_mode": {
    "name": "ipython",
    "version": 3
   },
   "file_extension": ".py",
   "mimetype": "text/x-python",
   "name": "python",
   "nbconvert_exporter": "python",
   "pygments_lexer": "ipython3",
   "version": "3.11.11"
  }
 },
 "nbformat": 4,
 "nbformat_minor": 5
}
